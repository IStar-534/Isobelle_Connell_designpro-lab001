{
  "cells": [
    {
      "cell_type": "markdown",
      "id": "94d5dbe1",
      "metadata": {
        "id": "94d5dbe1"
      },
      "source": [
        "# 🧠 techExposed Lab #001: How the Internet Works\n",
        "\n",
        "**Lab Type:** Idea  \n",
        "**Estimated Time:** 30–45 mins  \n",
        "**Skill Level:** Beginner"
      ]
    },
    {
      "cell_type": "code",
      "execution_count": null,
      "id": "7a331ad1",
      "metadata": {
        "id": "7a331ad1"
      },
      "outputs": [],
      "source": [
        "#Let's begin by printing your name to personalize the notebook\n",
        "your_name = \"Isobelle Connell\"\n",
        "print(f\"Welcome to the lab, {your_name}!\")"
      ]
    },
    {
      "cell_type": "markdown",
      "metadata": {
        "id": "d4d6b7b0"
      },
      "source": [
        "## ✍️ Your Assignment\n",
        "\n",
        "*Use this section to complete your deliverable:*\n",
        "\n",
        "- **Technology Explored**: Domain Name System (DNS)\n",
        "- **STAR Output**:\n",
        "  - **S (Situation):** Users often encounter issues like slow website loading, difficulty accessing specific websites, or seeing \"page not found\" errors, without understanding the underlying reasons. This is often related to how their computer finds the website's address on the internet.\n",
        "  - **T (Task):** Explain how the Domain Name System (DNS) works in a clear and digestible way for new developers or students, demonstrating its role in translating human-readable website addresses into computer-readable IP addresses.\n",
        "  - **A (Action):** Use markdown and analogies to explain the DNS lookup process, from the user typing a website address to the browser receiving the correct IP address. We'll cover concepts like DNS servers (resolvers, root servers, TLD servers, authoritative servers) and caching.\n",
        "  - **R (Expected Result):** A clear, one-page explanation with analogies that helps a beginner understand the DNS resolution process and why it's crucial for accessing websites.\n",
        "\n",
        "## 💡 Understanding DNS: The Internet's Address Book\n",
        "\n",
        "Think of the internet like a massive city, and websites are buildings within that city. Just like you use a street address to find a specific building, computers use numerical addresses called **IP addresses** (like `192.168.1.1`) to find websites.\n",
        "\n",
        "But memorizing IP addresses for every website you visit would be impossible! That's where DNS comes in.\n",
        "\n",
        "**DNS is like the internet's phone book or address book.** When you type a website address like `www.google.com` into your browser, DNS is the system that translates that human-friendly name into the computer-friendly IP address that your browser needs to connect to the website's server.\n",
        "\n",
        "### How the DNS Lookup Process Works (Simplified)\n",
        "\n",
        "Here's a simplified breakdown of what happens when you type a website address into your browser:\n",
        "\n",
        "1.  **You type a website address:** You enter `www.example.com` into your browser.\n",
        "\n",
        "2.  **Checking Local Cache:** Your computer and your browser first check their own local caches to see if they recently looked up the IP address for `www.example.com`. If they find it, they use that IP address directly, which is why visiting a site you've been to recently can be faster.\n",
        "\n",
        "3.  **Asking the Recursive Resolver:** If the address isn't in the local cache, your computer sends a request to a special server called a **recursive resolver**. This is often provided by your internet service provider (ISP). Think of the recursive resolver as a helpful librarian who will find the address for you.\n",
        "\n",
        "4.  **Asking the Root Server:** The recursive resolver doesn't know the answer immediately, so it asks a **root server**. Root servers are at the top of the DNS hierarchy. They don't know the specific IP address for `www.example.com`, but they know where to find information about the `.com` part of the address. They tell the recursive resolver which server is responsible for `.com` domain names (the TLD server).\n",
        "\n",
        "5.  **Asking the TLD Server:** The recursive resolver then asks the **Top-Level Domain (TLD) server** for `.com`. The TLD server doesn't know the full address either, but it knows which server is responsible for `example.com` (the authoritative name server).\n",
        "\n",
        "6.  **Asking the Authoritative Name Server:** Finally, the recursive resolver asks the **authoritative name server** for `example.com`. This server is the ultimate source of truth for `example.com`. It knows the specific IP address for `www.example.com` and provides it to the recursive resolver.\n",
        "\n",
        "7.  **Getting the IP Address Back:** The recursive resolver sends the IP address back to your computer.\n",
        "\n",
        "8.  **Connecting to the Website:** Your browser now has the IP address for `www.example.com` and can connect directly to the website's server to load the page.\n",
        "\n",
        "### Why is DNS Important?\n",
        "\n",
        "*   **Ease of Use:** We don't have to remember complex IP addresses.\n",
        "*   **Flexibility:** Website owners can change their server's IP address without users needing to update their bookmarks, as the DNS records are updated.\n",
        "*   **Speed:** Caching at various levels (browser, OS, resolver) makes subsequent visits to websites much faster.\n",
        "\n",
        "Understanding DNS helps demystify many common internet issues. If a website isn't loading, it could be a problem with the DNS lookup process – maybe a server is down, or the DNS records haven't updated yet.\n",
        "\n",
        "This is a simplified overview, but it covers the core concepts of how DNS translates website names into IP addresses, allowing you to navigate the internet using easy-to-remember names."
      ],
      "id": "d4d6b7b0"
    }
  ],
  "metadata": {
    "colab": {
      "provenance": []
    },
    "language_info": {
      "name": "python"
    },
    "kernelspec": {
      "name": "python3",
      "display_name": "Python 3"
    }
  },
  "nbformat": 4,
  "nbformat_minor": 5
}