{
  "cells": [
    {
      "cell_type": "code",
      "source": [
        "# Let's begin by printing your name to personalize the notebook\n",
        "your_name = \"Isobelle Connell\"\n",
        "print(f\"Welcome to the lab, {your_name}!\")"
      ],
      "metadata": {
        "id": "_dfOQ1BD16JK"
      },
      "id": "_dfOQ1BD16JK",
      "execution_count": null,
      "outputs": []
    },
    {
      "cell_type": "markdown",
      "metadata": {
        "id": "998e33d6"
      },
      "source": [
        "## 🔍 STAR Method Lab Prompt - Product Blueprint Brief\n",
        "\n",
        "**Situation:**\n",
        "Aspiring builders and engineers, particularly those from underrepresented backgrounds or with limited access to traditional workshops and mentors, face challenges in gaining hands-on experience and developing practical skills. Existing online resources can be fragmented, lack real-world application, and aren't always designed with diverse learning needs in mind. This gap hinders their ability to translate theoretical knowledge into tangible projects and confidently pursue careers in these fields.\n",
        "\n",
        "**Task:**\n",
        "Simulate the initial product definition phase for a digital platform that provides accessible, user-centered, and practical project-based learning for aspiring builders and engineers. The goal is to define the core problem, target users, key features, and desired outcomes to inform the development of a product brief, user journey, or interactive prototype.\n",
        "\n",
        "**Action:**\n",
        "We will use the STAR method framework to structure our thinking. We will brainstorm a product idea, define the target user based on the situation, outline the core features that address the user's needs, and envision the expected result of using this platform. We will prioritize usability and accessibility throughout this process, considering diverse learning styles and potential limitations.\n",
        "\n",
        "**Expected Result:**\n",
        "A concise product blueprint brief that outlines the core problem, target user, key features, and desired impact of the platform. This brief will serve as a foundational document for further development, including detailed user journeys and interactive prototypes."
      ],
      "id": "998e33d6"
    },
    {
      "cell_type": "markdown",
      "metadata": {
        "id": "997e4a79"
      },
      "source": [
        "## ✍️ Your Assignment - Completed\n",
        "\n",
        "- **Product Idea**: **\"BuildIt Labs\"** - An online platform offering guided, accessible, project-based learning for aspiring builders and engineers.\n",
        "- **Target User**: College students, recent graduates, and individuals looking to enter or upskill in building and engineering fields, with a focus on those who may lack access to traditional resources.\n",
        "- **Core Features**:\n",
        "    - **Step-by-step project guides**: Clear, visual instructions for building practical projects (e.g., a simple circuit, a basic woodworking joint, a small software application).\n",
        "    - **Interactive simulations**: Virtual sandboxes to experiment with concepts and tools before physical application.\n",
        "    - **Accessibility features**: Screen reader compatibility, keyboard navigation, adjustable text sizes and color contrasts, alternative input methods.\n",
        "    - **Community forum**: A supportive space for users to ask questions, share progress, and connect with mentors.\n",
        "    - **Tool and material recommendations**: Suggestions for affordable and accessible tools and materials needed for projects.\n",
        "    - **Progress tracking and badging**: Gamified elements to encourage completion and showcase learned skills.\n",
        "- **Gemini Prompt**: \"Draft a 1-page product brief for 'BuildIt Labs,' an accessible online platform for project-based learning in building and engineering. Include sections on the problem addressed, target user needs and goals, core features emphasizing usability and accessibility, and the potential impact.\"\n",
        "- **Output**: Product brief document (this markdown output can serve as the basis for the brief)."
      ],
      "id": "997e4a79"
    }
  ],
  "metadata": {
    "colab": {
      "provenance": []
    }
  },
  "nbformat": 4,
  "nbformat_minor": 5
}