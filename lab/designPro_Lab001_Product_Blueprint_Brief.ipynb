{
 "cells": [
  {
   "cell_type": "markdown",
   "id": "ab3c4178",
   "metadata": {},
   "source": [
    "# 🧠 designPro Lab #001: Product Blueprint Brief\n",
    "\n",
    "**Lab Type:** Idea  \n",
    "**Estimated Time:** 30–45 mins  \n",
    "**Skill Level:** Beginner"
   ]
  },
  {
   "cell_type": "code",
   "execution_count": null,
   "id": "ce24c57a",
   "metadata": {},
   "outputs": [],
   "source": [
    "# Let's begin by printing your name to personalize the notebook\n",
    "your_name = \"\"\n",
    "print(f\"Welcome to the lab, {your_name}!\")"
   ]
  },
  {
   "cell_type": "markdown",
   "id": "5fa04f23",
   "metadata": {},
   "source": [
    "## 🔍 STAR Method Lab Prompt\n",
    "\n",
    "**Situation:**  \n",
    "[What user problem or opportunity are you building around?]\n",
    "\n",
    "**Task:**  \n",
    "[What part of the product process are you simulating or testing?]\n",
    "\n",
    "**Action:**  \n",
    "[What tools, prompts, or techniques will you use?]\n",
    "\n",
    "**Expected Result:**  \n",
    "[A visual, doc, or prototype representing your solution.]"
   ]
  },
  {
   "cell_type": "markdown",
   "id": "46a6faeb",
   "metadata": {},
   "source": [
    "## ✍️ Your Assignment\n",
    "\n",
    "_Use this section to complete your deliverable:_\n",
    "\n",
    "```markdown\n",
    "(Example Format)\n",
    "\n",
    "- **Product Idea**: Mental health journal app  \n",
    "- **Target User**: College students under high stress  \n",
    "- **Core Features**: Daily prompts, mood tracker, reflection export  \n",
    "- **Gemini Prompt**: Create a 1-page brief with user pain points, goals, and feature list  \n",
    "- **Output**: Product brief PDF  \n",
    "```"
   ]
  }
 ],
 "metadata": {},
 "nbformat": 4,
 "nbformat_minor": 5
}
